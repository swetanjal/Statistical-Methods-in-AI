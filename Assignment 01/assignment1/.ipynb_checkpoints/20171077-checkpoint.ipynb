{
 "cells": [
  {
   "cell_type": "markdown",
   "metadata": {
    "editable": false
   },
   "source": [
    "# Assignment 1\n",
    "This jupyter notebook is meant to be used in conjunction with the full questions in the assignment pdf.\n",
    "\n",
    "## Instructions\n",
    "- Write your code and analyses in the indicated cells.\n",
    "- Ensure that this notebook runs without errors when the cells are run in sequence.\n",
    "- Do not attempt to change the contents of the other cells.\n",
    "\n",
    "## Submission\n",
    "- Ensure that this notebook runs without errors when the cells are run in sequence.\n",
    "- Rename the notebook to `<roll_number>.ipynb` and submit ONLY the notebook file on moodle."
   ]
  },
  {
   "cell_type": "markdown",
   "metadata": {
    "editable": false
   },
   "source": [
    "### Environment setup\n",
    "\n",
    "The following code reads the train and test data (provided along with this template) and outputs the data and labels as numpy arrays. Use these variables in your code.\n",
    "\n",
    "---\n",
    "#### Note on conventions\n",
    "In mathematical notation, the convention is tha data matrices are column-indexed, which means that a input data $x$ has shape $[d, n]$, where $d$ is the number of dimensions and $n$ is the number of data points, respectively.\n",
    "\n",
    "Programming languages have a slightly different convention. Data matrices are of shape $[n, d]$. This has the benefit of being able to access the ith data point as a simple `data[i]`.\n",
    "\n",
    "What this means is that you need to be careful about your handling of matrix dimensions. For example, while the covariance matrix (of shape $[d,d]$) for input data $x$ is calculated as $(x-u)(x-u)^T$, while programming you would do $(x-u)^T(x-u)$ to get the correct output shapes."
   ]
  },
  {
   "cell_type": "code",
   "execution_count": 1,
   "metadata": {
    "editable": false,
    "scrolled": true
   },
   "outputs": [
    {
     "name": "stdout",
     "output_type": "stream",
     "text": [
      "(6000, 784) (1000, 784)\n",
      "(6000,) (1000,)\n"
     ]
    }
   ],
   "source": [
    "from __future__ import print_function\n",
    "\n",
    "import numpy as np\n",
    "import matplotlib.pyplot as plt\n",
    "\n",
    "def read_data(filename):\n",
    "    with open(filename, 'r') as f:\n",
    "        lines = f.readlines()\n",
    "    \n",
    "    num_points = len(lines)\n",
    "    dim_points = 28 * 28\n",
    "    data = np.empty((num_points, dim_points))\n",
    "    labels = np.empty(num_points)\n",
    "    \n",
    "    for ind, line in enumerate(lines):\n",
    "        num = line.split(',')\n",
    "        labels[ind] = int(num[0])\n",
    "        data[ind] = [ int(x) for x in num[1:] ]\n",
    "        \n",
    "    return (data, labels)\n",
    "\n",
    "train_data, train_labels = read_data(\"sample_train.csv\")\n",
    "test_data, test_labels = read_data(\"sample_test.csv\")\n",
    "print(train_data.shape, test_data.shape)\n",
    "print(train_labels.shape, test_labels.shape)"
   ]
  },
  {
   "cell_type": "markdown",
   "metadata": {
    "editable": false
   },
   "source": [
    "# Questions\n",
    "---\n",
    "## 1.3.1 Representation\n",
    "The next code cells, when run, should plot the eigen value spectrum of the covariance matrices corresponding to the mentioned samples. Normalize the eigen value spectrum and only show the first 100 values."
   ]
  },
  {
   "cell_type": "code",
   "execution_count": 4,
   "metadata": {},
   "outputs": [
    {
     "data": {
      "text/plain": [
       "[<matplotlib.lines.Line2D at 0x7f0639276550>]"
      ]
     },
     "execution_count": 4,
     "metadata": {},
     "output_type": "execute_result"
    },
    {
     "data": {
      "image/png": "[encoded data removed]",
      "text/plain": [
       "<Figure size 432x288 with 1 Axes>"
      ]
     },
     "metadata": {
      "needs_background": "light"
     },
     "output_type": "display_data"
    }
   ],
   "source": [
    "# Samples corresponding to the last digit of your roll number (plot a)\n",
    "data = []\n",
    "roll_no = 20171077\n",
    "for i in range(train_data.shape[0]):\n",
    "    if train_labels[i] == (roll_no % 10):\n",
    "        data.append(train_data[i])\n",
    "data = np.array(data)\n",
    "\n",
    "from numpy import linalg as LA\n",
    "\n",
    "eigen_values, eigen_vectors = LA.eig(np.cov(data.transpose()))\n",
    "eigen_values = eigen_values.real\n",
    "eigen_values = -np.sort(-eigen_values)\n",
    "eigen_values = eigen_values / np.linalg.norm(eigen_values)\n",
    "eigen_values = eigen_values[0:100]\n",
    "plt.plot(eigen_values)"
   ]
  },
  {
   "cell_type": "code",
   "execution_count": 47,
   "metadata": {},
   "outputs": [
    {
     "data": {
      "text/plain": [
       "[<matplotlib.lines.Line2D at 0x7f3a26bfc9b0>]"
      ]
     },
     "execution_count": 47,
     "metadata": {},
     "output_type": "execute_result"
    },
    {
     "data": {
      "image/png": "[encoded data removed]",
      "text/plain": [
       "<Figure size 432x288 with 1 Axes>"
      ]
     },
     "metadata": {
      "needs_background": "light"
     },
     "output_type": "display_data"
    }
   ],
   "source": [
    "# Samples corresponding to the last digit of (your roll number + 1) % 10 (plot b)\n",
    "data = []\n",
    "roll_no = 20171077\n",
    "for i in range(train_data.shape[0]):\n",
    "    if train_labels[i] == ((roll_no + 1) % 10):\n",
    "        data.append(train_data[i])\n",
    "data = np.array(data)\n",
    "\n",
    "from numpy import linalg as LA\n",
    "\n",
    "eigen_values, eigen_vectors = LA.eig(np.cov(data.transpose()))\n",
    "eigen_values = eigen_values.real\n",
    "eigen_values = -np.sort(-eigen_values)\n",
    "eigen_values = eigen_values / np.linalg.norm(eigen_values)\n",
    "eigen_values = eigen_values[0:100]\n",
    "plt.plot(eigen_values)"
   ]
  },
  {
   "cell_type": "code",
   "execution_count": 48,
   "metadata": {},
   "outputs": [
    {
     "data": {
      "text/plain": [
       "[<matplotlib.lines.Line2D at 0x7f3a26bd6eb8>]"
      ]
     },
     "execution_count": 48,
     "metadata": {},
     "output_type": "execute_result"
    },
    {
     "data": {
      "image/png": "[encoded data removed]",
      "text/plain": [
       "<Figure size 432x288 with 1 Axes>"
      ]
     },
     "metadata": {
      "needs_background": "light"
     },
     "output_type": "display_data"
    }
   ],
   "source": [
    "# All training data (plot c)\n",
    "data = []\n",
    "roll_no = 20171077\n",
    "for i in range(train_data.shape[0]):\n",
    "    data.append(train_data[i])\n",
    "data = np.array(data)\n",
    "\n",
    "from numpy import linalg as LA\n",
    "\n",
    "eigen_values, eigen_vectors = LA.eig(np.cov(data.transpose()))\n",
    "eigen_values = eigen_values.real\n",
    "eigen_values = -np.sort(-eigen_values)\n",
    "eigen_values = eigen_values / np.linalg.norm(eigen_values)\n",
    "eigen_values = eigen_values[0:100]\n",
    "plt.plot(eigen_values)"
   ]
  },
  {
   "cell_type": "code",
   "execution_count": 49,
   "metadata": {},
   "outputs": [
    {
     "data": {
      "text/plain": [
       "[<matplotlib.lines.Line2D at 0x7f3a26b2b470>]"
      ]
     },
     "execution_count": 49,
     "metadata": {},
     "output_type": "execute_result"
    },
    {
     "data": {
      "image/png": "[encoded data removed]",
      "text/plain": [
       "<Figure size 432x288 with 1 Axes>"
      ]
     },
     "metadata": {
      "needs_background": "light"
     },
     "output_type": "display_data"
    }
   ],
   "source": [
    "# Randomly selected 50% of the training data (plot d)\n",
    "H = {}\n",
    "data = []\n",
    "for i in range(int(train_data.shape[0] / 2)):\n",
    "    k = np.random.randint(0, train_data.shape[0])\n",
    "    while k in H.keys():\n",
    "        k = np.random.randint(0, train_data.shape[0])\n",
    "    data.append(train_data[k])\n",
    "data = np.array(data)\n",
    "from numpy import linalg as LA\n",
    "\n",
    "eigen_values, eigen_vectors = LA.eig(np.cov(data.transpose()))\n",
    "eigen_values = eigen_values.real\n",
    "eigen_values = -np.sort(-eigen_values)\n",
    "eigen_values = eigen_values / np.linalg.norm(eigen_values)\n",
    "eigen_values = eigen_values[0:100]\n",
    "plt.plot(eigen_values)"
   ]
  },
  {
   "cell_type": "markdown",
   "metadata": {
    "editable": false
   },
   "source": [
    "### 1.3.1 Question 1\n",
    "- Are plots a and b different? Why?\n",
    "- Are plots b and c different? Why?\n",
    "- What are the approximate ranks of each plot?"
   ]
  },
  {
   "cell_type": "markdown",
   "metadata": {},
   "source": [
    "- The plots for a and b are very similar. This is because we have taken only samples of a single digit<br>The first eigen value is exponentially bigger than the next one. This shows for that particular digit the images have a very wide spread only in a few dimensions after which the spread almost falls to 0.\n",
    "- The plot for b and c are different because c corresponds to all the 10 digits' samples where as b corresponds to the samples consisting of only one image. Since there are images of different types, there is substantial spread in around 40 dimensions. In other words, to capture all the training data around 40 dimensions will be necessary.\n",
    "- a and b have a rank of around 20. c and d have a rank of around 40."
   ]
  },
  {
   "cell_type": "markdown",
   "metadata": {
    "editable": false
   },
   "source": [
    "### 1.3.1 Question 2\n",
    "- How many possible images could there be?\n",
    "- What percentage is accessible to us as MNIST data?\n",
    "- If we had acces to all the data, how would the eigen value spectrum of the covariance matrix look?"
   ]
  },
  {
   "cell_type": "markdown",
   "metadata": {},
   "source": [
    "- No. of possible images = ${2^{784}}$\n",
    "- Percentage accessible to us as MNIST data = $\\frac{6000}{2^{784}}$\n",
    "- The eigen value spectrum would look like a straight line. This is because the spread in all dimensions would have been almost equal without any pattern of more spread in a particular dimension"
   ]
  },
  {
   "cell_type": "markdown",
   "metadata": {
    "editable": false
   },
   "source": [
    "## 1.3.2 Linear Transformation\n",
    "---\n",
    "### 1.3.2 Question 1\n",
    "How does the eigen spectrum change if the original data was multiplied by an orthonormal matrix? Answer analytically and then also validate experimentally."
   ]
  },
  {
   "cell_type": "markdown",
   "metadata": {},
   "source": [
    "Since orthogonal transformation means that there was only a translation or a rotation, the lengths and angles between vectors remain unchanged. Hence, their spread across dimensions remains same. The data was only rotated or translated by some amount. Therefore, eigen spectrum remains unchanged"
   ]
  },
  {
   "cell_type": "code",
   "execution_count": 16,
   "metadata": {},
   "outputs": [],
   "source": [
    "# Code to generate a random orthonormal matrix taken from Stackoverflow\n",
    "def rvs(dim=3):\n",
    "    random_state = np.random\n",
    "    H = np.eye(dim)\n",
    "    D = np.ones((dim,))\n",
    "    for n in range(1, dim):\n",
    "        x = random_state.normal(size=(dim-n+1,))\n",
    "        D[n-1] = np.sign(x[0])\n",
    "        x[0] -= D[n-1]*np.sqrt((x*x).sum())\n",
    "        # Householder transformation\n",
    "        Hx = (np.eye(dim-n+1) - 2.*np.outer(x, x)/(x*x).sum())\n",
    "        mat = np.eye(dim)\n",
    "        mat[n-1:, n-1:] = Hx\n",
    "        H = np.dot(H, mat)\n",
    "        # Fix the last sign such that the determinant is 1\n",
    "    D[-1] = (-1)**(1-(dim % 2))*D.prod()\n",
    "    # Equivalent to np.dot(np.diag(D), H) but faster, apparently\n",
    "    H = (D*H.T).T\n",
    "    return H"
   ]
  },
  {
   "cell_type": "code",
   "execution_count": 17,
   "metadata": {},
   "outputs": [
    {
     "data": {
      "text/plain": [
       "[<matplotlib.lines.Line2D at 0x7f063934dc88>]"
      ]
     },
     "execution_count": 17,
     "metadata": {},
     "output_type": "execute_result"
    },
    {
     "data": {
      "image/png": "[encoded data removed]",
      "text/plain": [
       "<Figure size 432x288 with 1 Axes>"
      ]
     },
     "metadata": {
      "needs_background": "light"
     },
     "output_type": "display_data"
    }
   ],
   "source": [
    "# Experimental validation here.\n",
    "# Multiply your data (train_data) with an orthonormal matrix and plot the\n",
    "# eigen value specturm of the new covariance matrix.\n",
    "\n",
    "# code goes here\n",
    "orth = rvs(784)\n",
    "\n",
    "eigen_values, eigen_vectors = LA.eig(np.cov(np.dot(train_data, orth).transpose()))\n",
    "eigen_values = eigen_values.real\n",
    "eigen_values = -np.sort(-eigen_values)\n",
    "eigen_values = eigen_values / np.linalg.norm(eigen_values)\n",
    "eigen_values = eigen_values[0:100]\n",
    "plt.plot(eigen_values)"
   ]
  },
  {
   "cell_type": "markdown",
   "metadata": {
    "editable": false
   },
   "source": [
    "### 1.3.2 Question 2\n",
    "If  samples  were  multiplied  by  784 × 784  matrix  of rank 1 or 2, (rank deficient matrices), how will the eigen spectrum look like?"
   ]
  },
  {
   "cell_type": "markdown",
   "metadata": {},
   "source": [
    "There will be only one or two(depending on whether rank is 1 or 2) non zero eigen values and remaining all the eigen values will be 0."
   ]
  },
  {
   "cell_type": "markdown",
   "metadata": {
    "editable": false
   },
   "source": [
    "### 1.3.2 Question 3\n",
    "Project the original data into the first and second eigenvectors and plot in 2D"
   ]
  },
  {
   "cell_type": "code",
   "execution_count": 12,
   "metadata": {},
   "outputs": [
    {
     "data": {
      "text/plain": [
       "<matplotlib.collections.PathCollection at 0x7f06394ad978>"
      ]
     },
     "execution_count": 12,
     "metadata": {},
     "output_type": "execute_result"
    },
    {
     "data": {
      "image/png": "[encoded data removed]",
      "text/plain": [
       "<Figure size 432x288 with 1 Axes>"
      ]
     },
     "metadata": {
      "needs_background": "light"
     },
     "output_type": "display_data"
    }
   ],
   "source": [
    "# # Plotting code here\n",
    "%matplotlib inline\n",
    "eigen_values, eigen_vectors = np.linalg.eig(np.cov(train_data.T))\n",
    "np.flip(eigen_values.argsort())\n",
    "plt.scatter(eigen_vectors[:, 0].dot(train_data.T), eigen_vectors[:, 1].dot(train_data.T))"
   ]
  },
  {
   "cell_type": "markdown",
   "metadata": {
    "editable": false
   },
   "source": [
    "## 1.3.3 Probabilistic View\n",
    "---\n",
    "In this section you will classify the test set by fitting multivariate gaussians on the train set, with different choices for decision boundaries. On running, your code should print the accuracy on your test set."
   ]
  },
  {
   "cell_type": "code",
   "execution_count": 2,
   "metadata": {},
   "outputs": [
    {
     "name": "stdout",
     "output_type": "stream",
     "text": [
      "Accuracy = 74.4\n"
     ]
    }
   ],
   "source": [
    "# Print accuracy on the test set using MLE\n",
    "sig_det = []\n",
    "sig_inv = []\n",
    "def determinant(sig):\n",
    "    eigen_values, _ = np.linalg.eig(sig)\n",
    "    res = 0\n",
    "    for x in eigen_values:\n",
    "        if x.real > 0:\n",
    "            res = res + np.log(x.real)\n",
    "    return res\n",
    "def log_probability(x, mu, sigma, f):\n",
    "    sigma_inv = sig_inv[f]\n",
    "    first_component = -np.dot(np.dot((x - mu).transpose(), sigma_inv), (x - mu)) / 2\n",
    "    second_component = -sig_det[f] / 2\n",
    "    third_component = -784 * np.log(2 * 22 / 2) / 2\n",
    "    return (first_component + third_component)\n",
    "mu = []\n",
    "cov = []\n",
    "data = []\n",
    "for i in range(10):\n",
    "    data.append([])\n",
    "for i in range(train_data.shape[0]):\n",
    "    data[int(train_labels[i])].append(train_data[i])\n",
    "data = np.array(data)\n",
    "for i in range(10):\n",
    "    mu.append(np.mean(data[i], axis = 0))\n",
    "    cov.append(np.cov(data[i].transpose()))\n",
    "mu = np.array(mu)\n",
    "cov = np.array(cov)\n",
    "acc = 0\n",
    "for j in range(10):\n",
    "    sig_det.append(determinant(cov[j]))\n",
    "    sig_inv.append(np.linalg.pinv(cov[j]))\n",
    "for i in range(test_data.shape[0]):\n",
    "    idx = -1\n",
    "    res = -1000000000000000000000000000000000000000000\n",
    "    for j in range(10):\n",
    "        t = log_probability(test_data[i], mu[j], cov[j], j)\n",
    "        if t > res:\n",
    "            res = t\n",
    "            idx = j\n",
    "    if idx == int(test_labels[i]):\n",
    "        acc = acc + 1\n",
    "print(\"Accuracy = \" + str(acc * 100/ test_data.shape[0]))"
   ]
  },
  {
   "cell_type": "code",
   "execution_count": 3,
   "metadata": {},
   "outputs": [
    {
     "name": "stdout",
     "output_type": "stream",
     "text": [
      "Accuracy = 74.4\n"
     ]
    }
   ],
   "source": [
    "# Print accuracy on the test set using MAP\n",
    "# (assume a reasonable prior and mention it in the comments)\n",
    "# Prior = No. of examples of class j / Total number of examples\n",
    "sig_det = []\n",
    "sig_inv = []\n",
    "def determinant(sig):\n",
    "    eigen_values, _ = np.linalg.eig(sig)\n",
    "    res = 0\n",
    "    for x in eigen_values:\n",
    "        if x.real > 0:\n",
    "            res = res + np.log(x.real)\n",
    "    return res\n",
    "def log_probability(x, mu, sigma, f):\n",
    "    sigma_inv = sig_inv[f]\n",
    "    first_component = -np.dot(np.dot((x - mu).transpose(), sigma_inv), (x - mu)) / 2\n",
    "    second_component = -sig_det[f] / 2\n",
    "    third_component = -784 * np.log(2 * 22 / 2) / 2\n",
    "    return (first_component + third_component)\n",
    "mu = []\n",
    "cov = []\n",
    "data = []\n",
    "for i in range(10):\n",
    "    data.append([])\n",
    "for i in range(train_data.shape[0]):\n",
    "    data[int(train_labels[i])].append(train_data[i])\n",
    "data = np.array(data)\n",
    "for i in range(10):\n",
    "    mu.append(np.mean(data[i], axis = 0))\n",
    "    cov.append(np.cov(data[i].transpose()))\n",
    "mu = np.array(mu)\n",
    "cov = np.array(cov)\n",
    "acc = 0\n",
    "for j in range(10):\n",
    "    sig_det.append(determinant(cov[j]))\n",
    "    sig_inv.append(np.linalg.pinv(cov[j]))\n",
    "for i in range(test_data.shape[0]):\n",
    "    idx = -1\n",
    "    res = -1000000000000000000000000000000000000000000\n",
    "    for j in range(10):\n",
    "        t = log_probability(test_data[i], mu[j], cov[j], j) * (data[j].shape[0] / train_data.shape[0])\n",
    "        if t > res:\n",
    "            res = t\n",
    "            idx = j\n",
    "    if idx == int(test_labels[i]):\n",
    "        acc = acc + 1\n",
    "print(\"Accuracy = \" + str(acc * 100/ test_data.shape[0]))"
   ]
  },
  {
   "cell_type": "code",
   "execution_count": null,
   "metadata": {},
   "outputs": [],
   "source": [
    "# Print accuracy using Bayesian pairwise majority voting method\n",
    "sig_det = np.zeros((10, 10))\n",
    "sig_inv = []\n",
    "for i in range(10):\n",
    "    tmp = []\n",
    "    for j in range(10):\n",
    "        tmp.append([])\n",
    "    sig_inv.append(tmp)\n",
    "\n",
    "def determinant(sig):\n",
    "    eigen_values, _ = np.linalg.eig(sig)\n",
    "    res = 0\n",
    "    for x in eigen_values:\n",
    "        if x.real > 0:\n",
    "            res = res + np.log(x.real)\n",
    "    return res\n",
    "def log_probability(x, mu, sigma, f, y):\n",
    "    sigma_inv = sig_inv[f][y]\n",
    "    first_component = -np.dot(np.dot((x - mu).transpose(), sigma_inv), (x - mu)) / 2\n",
    "    second_component = -sig_det[f][y] / 2\n",
    "    third_component = -784 * np.log(2 * 22 / 2) / 2\n",
    "    return (first_component + third_component)\n",
    "mu = []\n",
    "cov = []\n",
    "data = []\n",
    "for i in range(10):\n",
    "    data.append([])\n",
    "for i in range(train_data.shape[0]):\n",
    "    data[int(train_labels[i])].append(train_data[i])\n",
    "data = np.array(data)\n",
    "for i in range(10):\n",
    "    mu.append(np.mean(data[i], axis = 0))\n",
    "    cov.append(np.cov(data[i].transpose()))\n",
    "mu = np.array(mu)\n",
    "cov = np.array(cov)\n",
    "acc = 0\n",
    "for i in range(10):\n",
    "    for j in range(10):\n",
    "        C = (cov[i] + cov[j]) / 2\n",
    "        sig_det[i][j] = determinant(C)\n",
    "        sig_inv[i][j] = np.linalg.pinv(C)\n",
    "for i in range(test_data.shape[0]):\n",
    "    idx = -1\n",
    "    res = -1000000000000000000000000000000000000000000\n",
    "    pred = np.zeros(10)\n",
    "    for j in range(10):\n",
    "        for k in range(j + 1, 10):\n",
    "            t1 = log_probability(test_data[i], mu[j], (cov[j] + cov[k]) / 2, j, k)\n",
    "            t2 = log_probability(test_data[i], mu[k], (cov[j] + cov[k]) / 2, j, k)\n",
    "            if t1 > t2:\n",
    "                pred[j] = pred[j] + 1\n",
    "            else:\n",
    "                pred[k] = pred[k] + 1\n",
    "    M = 0\n",
    "    for j in range(10):\n",
    "        if M < pred[j]:\n",
    "            M = pred[j]\n",
    "            idx = j\n",
    "    if idx == int(test_labels[i]):\n",
    "        acc = acc + 1\n",
    "print(\"Accuracy = \" + str(acc * 100/ test_data.shape[0]))"
   ]
  },
  {
   "cell_type": "code",
   "execution_count": 4,
   "metadata": {},
   "outputs": [
    {
     "name": "stdout",
     "output_type": "stream",
     "text": [
      "Accuracy = 77.0\n"
     ]
    }
   ],
   "source": [
    "# Print accuracy using Simple Perpendicular Bisector majority voting method\n",
    "data = []\n",
    "mu = []\n",
    "cov = []\n",
    "for i in range(10):\n",
    "    data.append([])\n",
    "for i in range(train_data.shape[0]):\n",
    "    data[int(train_labels[i])].append(train_data[i])\n",
    "data = np.array(data)\n",
    "for i in range(10):\n",
    "    mu.append(np.mean(data[i], axis = 0))\n",
    "    cov.append(np.cov(data[i].transpose()))\n",
    "mu = np.array(mu)\n",
    "cov = np.array(cov)\n",
    "acc = 0\n",
    "for i in range(test_data.shape[0]):\n",
    "    idx = -1\n",
    "    res = -1000000000000000000000000000000000000000000\n",
    "    pred = np.zeros(10)\n",
    "    for j in range(10):\n",
    "        for k in range(j + 1, 10):\n",
    "            t1 = np.linalg.norm(test_data[i] - mu[j])\n",
    "            t2 = np.linalg.norm(test_data[i] - mu[k])\n",
    "            if t1 < t2:\n",
    "                pred[j] = pred[j] + 1\n",
    "            else:\n",
    "                pred[k] = pred[k] + 1\n",
    "    M = 0\n",
    "    for j in range(10):\n",
    "        if M < pred[j]:\n",
    "            M = pred[j]\n",
    "            idx = j\n",
    "    if idx == int(test_labels[i]):\n",
    "        acc = acc + 1\n",
    "print(\"Accuracy = \" + str(acc * 100/ test_data.shape[0]))"
   ]
  },
  {
   "cell_type": "markdown",
   "metadata": {
    "editable": false
   },
   "source": [
    "### 1.3.3 Question 4\n",
    "Compare performances and salient observations"
   ]
  },
  {
   "cell_type": "markdown",
   "metadata": {},
   "source": [
    "- In Maximum Likelihood Estimation we simply fit Covariance matrix and Mean for each of the 10 classes from the training data. Then we take each test sample, and get the probability density of that test sample being in a particular class. The class which returns the maximum probability density value for the given test vector, is the class to which our test sample belongs. We get an accuracy of 74.4%.\n",
    "- In Maximum A Posterior, we use the formula<br>$P(mu[j],\\ sigma[j]\\ |\\ test\\ sample) = \\frac{P(test\\ sample\\ |\\ mu[j],\\ sigma[j])\\ *\\ P(mu[j],\\ sigma[j])}{\\sum_i (P(test\\ sample\\ |\\ mu[i],\\ sigma[i]) * P(mu[i],\\ sigma[i]))}$<br>\n",
    "We assume the $Prior probability = P(mu[j],\\ sigma[j])\\ =\\ \\frac{number\\ of\\ train\\ samples\\ belonging\\ to\\ class\\ j}{Total\\ number\\ of\\ samples}$<br>The accuracy does not change because there are equal number of samples from each class in the MNIST dataset.\n",
    "- For Bayesian pairwise voting, we take all possible pairs of classes, compute the probability of test sample belonging to both the classes in the pair. The class with greater probability density is given a +1 vote. After taking all pairs we do a voting to decide which class wins the majority. We get an accuracy of 83.7%. This is the best accuracy we achieved out of the four methods. This implies doing Bayesian pair wise voting enhances the accuracy greatly. The same multivariate normal distribution probability function is used to get the probability densities of a sample belonging to a particular class(as used in part 1)\n",
    "- Finally, we try to fit a perpendicular bisector through each pair of classes and then vote for the class depending on which side of perpendicular bisector the test sample lies. After, taking all pairs we do a voting to decide our prediction. The accuracy falls to 77%. The distance used is standard L-2 norm, because by definition of perpendicular bisector it is the locus of points which are equidistant from both the classes."
   ]
  },
  {
   "cell_type": "markdown",
   "metadata": {
    "editable": false
   },
   "source": [
    "## 1.3.4 Nearest Neighbour based Tasks and Design\n",
    "---\n",
    "### 1.3.4 Question 1 : NN Classification with various K\n",
    "Implement a KNN classifier and print accuracies on the test set with K=1,3,7"
   ]
  },
  {
   "cell_type": "code",
   "execution_count": 61,
   "metadata": {},
   "outputs": [
    {
     "name": "stdout",
     "output_type": "stream",
     "text": [
      "Accuracy when K is 1 = 90.7%\n",
      "Accuracy when K is 3 = 91.60000000000001%\n",
      "Accuracy when K is 7 = 91.60000000000001%\n"
     ]
    }
   ],
   "source": [
    "# Your code here\n",
    "# Print accuracies with K = 1, 3, 7\n",
    "K = 1\n",
    "acc = 0\n",
    "for i in range(test_data.shape[0]):\n",
    "    neighbours = []\n",
    "    for j in range(train_data.shape[0]):\n",
    "        ans = np.linalg.norm(test_data[i] - train_data[j])\n",
    "        neighbours.append((ans, train_labels[j]))\n",
    "    neighbours.sort()\n",
    "    res = neighbours\n",
    "    freq = np.zeros(10)\n",
    "    for j in range(K):\n",
    "        freq[int(res[j][1])] = freq[int(res[j][1])] + 1\n",
    "    m = 0\n",
    "    idx = -1\n",
    "    for j in range(10):\n",
    "        if freq[j] > m:\n",
    "            m = freq[j]\n",
    "            idx = j\n",
    "    if (test_labels[i] == idx):\n",
    "        acc = acc + 1\n",
    "acc = acc / test_data.shape[0]\n",
    "print(\"Accuracy when K is 1 = \" + str(acc * 100) + \"%\")\n",
    "\n",
    "K = 3\n",
    "acc = 0\n",
    "for i in range(test_data.shape[0]):\n",
    "    neighbours = []\n",
    "    for j in range(train_data.shape[0]):\n",
    "        ans = np.linalg.norm(test_data[i] - train_data[j])\n",
    "        neighbours.append((ans, train_labels[j]))\n",
    "    neighbours.sort()\n",
    "    res = neighbours\n",
    "    freq = np.zeros(10)\n",
    "    for j in range(K):\n",
    "        freq[int(res[j][1])] = freq[int(res[j][1])] + 1\n",
    "    m = 0\n",
    "    idx = -1\n",
    "    for j in range(10):\n",
    "        if freq[j] > m:\n",
    "            m = freq[j]\n",
    "            idx = j\n",
    "    if (test_labels[i] == idx):\n",
    "        acc = acc + 1\n",
    "acc = acc / test_data.shape[0]\n",
    "print(\"Accuracy when K is 3 = \" + str(acc * 100) + \"%\")\n",
    "\n",
    "K = 7\n",
    "acc = 0\n",
    "for i in range(test_data.shape[0]):\n",
    "    neighbours = []\n",
    "    for j in range(train_data.shape[0]):\n",
    "        ans = np.linalg.norm(test_data[i] - train_data[j])\n",
    "        neighbours.append((ans, train_labels[j]))\n",
    "    neighbours.sort()\n",
    "    res = neighbours\n",
    "    freq = np.zeros(10)\n",
    "    for j in range(K):\n",
    "        freq[int(res[j][1])] = freq[int(res[j][1])] + 1\n",
    "    m = 0\n",
    "    idx = -1\n",
    "    for j in range(10):\n",
    "        if freq[j] > m:\n",
    "            m = freq[j]\n",
    "            idx = j\n",
    "    if (test_labels[i] == idx):\n",
    "        acc = acc + 1\n",
    "acc = acc / test_data.shape[0]\n",
    "print(\"Accuracy when K is 7 = \" + str(acc * 100) + \"%\")"
   ]
  },
  {
   "cell_type": "markdown",
   "metadata": {
    "editable": false
   },
   "source": [
    "### 1.3.4 Question 1 continued\n",
    "- Why / why not are the accuracies the same?\n",
    "- How do we identify the best K? Suggest a computational procedure with a logical explanation."
   ]
  },
  {
   "cell_type": "markdown",
   "metadata": {},
   "source": [
    "- There is a difference in accuracies between K = 1 and K = 3 & 7. This is because when we take only one nearest neighbour there is a chance that the nearest neighbour is a noisy sample. This is why we take more than one nearest neighbour and do a majority voting. Same accuracies of 3 & 7 show that the first three nearest neighbours are not noisy and they give the same result as considering the first seven Nearest neighbours.\n",
    "- Run a loop for K = 1,3,5,7..... and keep plotting the accuracy on training set for that particular value of K. Also, plot the accuracy on test set for the same value of K. As the loop progresses, the accuracies of both the train and test sets increases at first and then a point comes when the accuracy of train set keeps increasing but the accuracy on test set starts decreasing. This is when we stop and idetify the value of K as the best K. This is called early stopping"
   ]
  },
  {
   "cell_type": "markdown",
   "metadata": {
    "editable": false
   },
   "source": [
    "### 1.3.4 Question 2 :  Reverse NN based outlier detection\n",
    "A sample can be thought of as an outlier is it is NOT in the nearest neighbour set of anybody else. Expand this idea into an algorithm."
   ]
  },
  {
   "cell_type": "code",
   "execution_count": 60,
   "metadata": {
    "editable": false
   },
   "outputs": [
    {
     "name": "stdout",
     "output_type": "stream",
     "text": [
      "(20, 784)\n"
     ]
    }
   ],
   "source": [
    "# This cell reads mixed data containing both MNIST digits and English characters.\n",
    "# The labels for this mixed data are random and are hence ignored.\n",
    "mixed_data, _ = read_data(\"outliers.csv\")\n",
    "print(mixed_data.shape)"
   ]
  },
  {
   "cell_type": "code",
   "execution_count": 65,
   "metadata": {},
   "outputs": [
    {
     "name": "stdout",
     "output_type": "stream",
     "text": [
      "0\n",
      "2\n",
      "4\n",
      "5\n",
      "6\n",
      "7\n",
      "9\n",
      "11\n",
      "18\n"
     ]
    }
   ],
   "source": [
    "K = 3\n",
    "CONST = 1000000000000000000000\n",
    "outlier_scores = np.zeros(mixed_data.shape[0])\n",
    "for i in range(train_data.shape[0]):\n",
    "    neighbours = []\n",
    "    for j in range(train_data.shape[0]):\n",
    "        ans = np.linalg.norm(train_data[i] - train_data[j])\n",
    "        neighbours.append((ans, train_labels[j]))\n",
    "    for j in range(mixed_data.shape[0]):\n",
    "        ans = np.linalg.norm(train_data[i] - mixed_data[j])\n",
    "        neighbours.append((ans, CONST + j))\n",
    "    neighbours.sort()\n",
    "    res = neighbours\n",
    "    for j in range(K):\n",
    "        if neighbours[j][1] >= CONST:\n",
    "            outlier_scores[neighbours[j][1] - CONST] = outlier_scores[neighbours[j][1] - CONST] + 1\n",
    "for i in range(len(outlier_scores)):\n",
    "    if outlier_scores[i] == 0:\n",
    "        print(i)"
   ]
  },
  {
   "cell_type": "markdown",
   "metadata": {
    "editable": false
   },
   "source": [
    "### 1.3.4 Question 3 : NN for regression\n",
    "Assume that each classID in the train set corresponds to a neatness score as:\n",
    "$$ neatness = \\frac{classID}{10} $$\n",
    "\n",
    "---\n",
    "Assume we had to predict the neatness score for each test sample using NN based techiniques on the train set. Describe the algorithm."
   ]
  },
  {
   "cell_type": "markdown",
   "metadata": {},
   "source": [
    "- For each of the test data sample, iterate through every training data and compute cosine similarity between the test sample and that training sample.\n",
    "- Sort the train samples in decreasing order of similarity. Greater the similarity value with a particular train sample, higher is the confidence that the test sample under consideration has neatness score of that train sample.\n",
    "- Compute weighted score for each train sample by multiplying neatness score of the train sample with cosine similarity(between it and the test sample being considered) and then summing up the weighted scores for all training samples.\n",
    "- This is the predicted neatness value of our test sample under consideration."
   ]
  },
  {
   "cell_type": "markdown",
   "metadata": {
    "editable": false
   },
   "source": [
    "### 1.3.4 Question 3 continued\n",
    "Validate your algorithm on the test set. This code should print mean absolute error on the test set, using the train set for NN based regression."
   ]
  },
  {
   "cell_type": "code",
   "execution_count": 26,
   "metadata": {},
   "outputs": [
    {
     "name": "stdout",
     "output_type": "stream",
     "text": [
      "0.0277\n"
     ]
    }
   ],
   "source": [
    "# Your code here\n",
    "K = 1\n",
    "mu = 0\n",
    "for i in range(test_data.shape[0]):\n",
    "    neighbours = []\n",
    "    for j in range(train_data.shape[0]):\n",
    "        ans = np.dot(test_data[i], train_data[j]) / (np.sqrt(np.dot(train_data[j],train_data[j])) * np.sqrt(np.dot(test_data[i], test_data[i])))\n",
    "        neighbours.append((ans, train_labels[j]))\n",
    "    neighbours.sort()\n",
    "    neighbours.reverse()\n",
    "    res = neighbours\n",
    "    tot_dist = 0.0\n",
    "    val = 0.0\n",
    "    for j in range(K):\n",
    "        tot_dist = tot_dist + neighbours[j][0]\n",
    "        val = val + (neighbours[j][0] * neighbours[j][1] / 10)\n",
    "    val = val / tot_dist\n",
    "    mu = mu + abs(val - (test_labels[i] / 10))\n",
    "mu = mu / test_data.shape[0]\n",
    "print(mu)"
   ]
  },
  {
   "cell_type": "markdown",
   "metadata": {
    "editable": false
   },
   "source": [
    "---\n",
    "# FOLLOW THE SUBMISSION INSTRUCTIONS\n",
    "---"
   ]
  },
  {
   "cell_type": "code",
   "execution_count": null,
   "metadata": {},
   "outputs": [],
   "source": []
  }
 ],
 "metadata": {
  "kernelspec": {
   "display_name": "Python 3",
   "language": "python",
   "name": "python3"
  },
  "language_info": {
   "codemirror_mode": {
    "name": "ipython",
    "version": 3
   },
   "file_extension": ".py",
   "mimetype": "text/x-python",
   "name": "python",
   "nbconvert_exporter": "python",
   "pygments_lexer": "ipython3",
   "version": "3.6.8"
  }
 },
 "nbformat": 4,
 "nbformat_minor": 2
}
